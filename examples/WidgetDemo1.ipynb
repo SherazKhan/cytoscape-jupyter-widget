{
 "cells": [
  {
   "cell_type": "markdown",
   "metadata": {},
   "source": [
    "# Cytoscape Jupyter Widget Demo\n",
    "\n",
    "Keiichiro ONO (kono at ucsd dot edu)\n",
    "10/8/2018\n",
    "\n",
    "### Official Web Site and Code Repository\n",
    "\n",
    "* https://github.com/idekerlab/cytoscape-jupyter-widget \n",
    "\n",
    "### PyPi\n",
    "\n",
    "* (coming soon...)\n",
    "\n",
    "![](https://cytoscape.org/images/logo/cy3logoOrange.svg)\n",
    "\n",
    "## Introduction\n",
    "\n",
    "This is a demo notebook for Cytoscape Jupyter Widget: graph visualizer for Jupyter Notebook.  It's a very simple graph visualizer using [Cytoscape.js](http://js.cytoscape.org).  You can interactively visualize graphs (networks) in CX or Cytoscape.js format.\n",
    "\n",
    "## Install Widget\n",
    "\n",
    "```bash\n",
    "git clone　https://github.com/idekerlab/cytoscape-jupyter-widget.git\n",
    "cd cytoscape-jupyter-widget\n",
    "./build.sh\n",
    "```"
   ]
  },
  {
   "cell_type": "markdown",
   "metadata": {},
   "source": [
    "## How to Use the Widget\n",
    "\n",
    "### 1. Import Widget"
   ]
  },
  {
   "cell_type": "code",
   "execution_count": 1,
   "metadata": {},
   "outputs": [],
   "source": [
    "from cyjupyter import Cytoscape"
   ]
  },
  {
   "cell_type": "markdown",
   "metadata": {},
   "source": [
    "### 2. Prepare Data\n",
    "\n",
    "This widget supports graph data in CX or Cytoscape.js JSON (cyjs).\n",
    "\n",
    "#### Cytoscape.js JSON\n",
    "\n",
    "Cytoscape.js JSON is a simple format for graph data.  The following code generates Cytoscape.js data as a standard Python dictionary."
   ]
  },
  {
   "cell_type": "code",
   "execution_count": 2,
   "metadata": {},
   "outputs": [],
   "source": [
    "# A Cytoscape.js network with 4 nodes and 5 edges\n",
    "\n",
    "minimal_cyjs_network = {\n",
    "    'elements': {\n",
    "        'nodes': [\n",
    "            {'data' : {'id': 'node 1'}},\n",
    "            {'data' : {'id': 'node 2'}},\n",
    "            {'data' : {'id': 'node 3'}},\n",
    "            {'data' : {'id': 'node 4'}}\n",
    "        ],\n",
    "        'edges': [\n",
    "            { 'data': {'id': 'edge1','source': 'node 1','target': 'node 2'}},\n",
    "            { 'data': {'id': 'edge2','source': 'node 1','target': 'node 3'}},\n",
    "            { 'data': {'id': 'edge3','source': 'node 2','target': 'node 3'}},\n",
    "            { 'data': {'id': 'edge4','source': 'node 2','target': 'node 4'}},\n",
    "            { 'data': {'id': 'edge5','source': 'node 3','target': 'node 4'}}\n",
    "        ]\n",
    "    }\n",
    "}"
   ]
  },
  {
   "cell_type": "markdown",
   "metadata": {},
   "source": [
    "#### CX JSON\n",
    "\n",
    "CX is a JSON format used for network data transfer in the Cytoscape ecosystem.  You can download any network from [NDEx](http://www.ndexbio.org/) in CX format.  The following example uses NDEx Python client to download the network in CX.  You can change the _uuid_ to try any networks in NDEx."
   ]
  },
  {
   "cell_type": "code",
   "execution_count": 94,
   "metadata": {},
   "outputs": [
    {
     "name": "stdout",
     "output_type": "stream",
     "text": [
      "Response code from NDEx:  200\n"
     ]
    }
   ],
   "source": [
    "import ndex2.client as nc\n",
    "\n",
    "# Unique ID for a network entry in NDEx\n",
    "uuid0 = '568d095e-1e5f-11e8-b939-0ac135e8bacf'\n",
    "uuid ='f28356ce-362d-11e5-8ac5-06603eb7f303'\n",
    "\n",
    "# NDEx public server URL\n",
    "ndex_url = 'http://public.ndexbio.org/'\n",
    "\n",
    "# Create an instance of NDEx client\n",
    "ndex=nc.Ndex2(ndex_url)\n",
    "\n",
    "# Download the network in CX format\n",
    "response=ndex.get_network_as_cx_stream(uuid)\n",
    "print('Response code from NDEx: ', response.status_code)\n",
    "cx = response.json()"
   ]
  },
  {
   "cell_type": "markdown",
   "metadata": {},
   "source": [
    "### 3. Render it!\n",
    "\n",
    "#### Cytoscape.js Networks\n",
    "\n",
    "By default, the widget is configured to display networks in Cytoscape.js JSON.  If you pass pass it as _*data*_ parameter, it automatically render it using default _Visual Style_ and [cose layout](http://js.cytoscape.org/#layouts/cose)."
   ]
  },
  {
   "cell_type": "code",
   "execution_count": 5,
   "metadata": {},
   "outputs": [
    {
     "data": {
      "application/vnd.jupyter.widget-view+json": {
       "model_id": "51b5986197f6474ea5945e8594939d1f",
       "version_major": 2,
       "version_minor": 0
      },
      "text/plain": [
       "Cytoscape(data={'elements': {'nodes': [{'data': {'id': 'node 1'}}, {'data': {'id': 'node 2'}}, {'data': {'id':…"
      ]
     },
     "metadata": {},
     "output_type": "display_data"
    }
   ],
   "source": [
    "Cytoscape(data=minimal_cyjs_network)"
   ]
  },
  {
   "cell_type": "markdown",
   "metadata": {},
   "source": [
    "#### CX Networks\n",
    "\n",
    "To display CX networks, you just need to pass the List object (CX is always a list of _aspects_ for more information about CX, please read the [official document](http://www.home.ndexbio.org/data-model/)) **AND SPECIFY FORMAT, cx**.  If the data contains Visual Style and layout, it will be applied automatically.  Otherwise, default ones will be used."
   ]
  },
  {
   "cell_type": "code",
   "execution_count": 95,
   "metadata": {},
   "outputs": [
    {
     "data": {
      "application/vnd.jupyter.widget-view+json": {
       "model_id": "08f2930bb6d846f6bdaaa638a1855335",
       "version_major": 2,
       "version_minor": 0
      },
      "text/plain": [
       "Cytoscape(data=[{'numberVerification': [{'longNumber': 281474976710655}]}, {'metaData': [{'consistencyGroup': …"
      ]
     },
     "metadata": {},
     "output_type": "display_data"
    }
   ],
   "source": [
    "Cytoscape(data=cx, format='cx')"
   ]
  },
  {
   "cell_type": "markdown",
   "metadata": {},
   "source": [
    "### Use files exported from Cytoscape\n",
    "You can easily use files edited in [Cytoscape Desktop](https://cytoscape.org/)."
   ]
  },
  {
   "cell_type": "code",
   "execution_count": 108,
   "metadata": {},
   "outputs": [
    {
     "data": {
      "application/vnd.jupyter.widget-view+json": {
       "model_id": "c0e7614119f147eaacdebfce9d93257c",
       "version_major": 2,
       "version_minor": 0
      },
      "text/plain": [
       "Cytoscape(data={'format_version': '1.0', 'generated_by': 'cytoscape-3.6.1', 'target_cytoscapejs_version': '~2.…"
      ]
     },
     "metadata": {},
     "output_type": "display_data"
    }
   ],
   "source": [
    "import json\n",
    "\n",
    "# Network file exported from Cytoscape (in .cyjs format)\n",
    "with open('hsa00020.cyjs') as f:\n",
    "    kegg = json.load(f)\n",
    "# Style file exported from Cytoscape (in Cytoscape.js Style JSON format)\n",
    "with open('kegg-styles.json') as f2:\n",
    "    kegg_style = json.load(f2)\n",
    "\n",
    "# Actual style should be extracted...\n",
    "style_obj = kegg_style[0]['style']\n",
    "    \n",
    "Cytoscape(data=kegg, visual_style=style_obj, layout={'height': '700px'})"
   ]
  },
  {
   "cell_type": "markdown",
   "metadata": {},
   "source": [
    "## Optional Parameters\n",
    "\n",
    "You can use most of the basic Cytoscape.js features through optional parameters.\n",
    "\n",
    "### Cell Height\n",
    "\n",
    "This widget uses [standard Layout mechanism for Jupyter Widgets](https://minrk-ipywidgets.readthedocs.io/en/latest/examples/Widget%20Styling.html#The-layout-attribute.).  To specify the cell height, you can pass it as a part of _layout_ parameter:"
   ]
  },
  {
   "cell_type": "code",
   "execution_count": 7,
   "metadata": {},
   "outputs": [
    {
     "data": {
      "application/vnd.jupyter.widget-view+json": {
       "model_id": "ea0cba4cf4d84082bc9e493e1772e7a5",
       "version_major": 2,
       "version_minor": 0
      },
      "text/plain": [
       "Cytoscape(data=[{'numberVerification': [{'longNumber': 281474976710655}]}, {'metaData': [{'name': 'provenanceH…"
      ]
     },
     "metadata": {},
     "output_type": "display_data"
    }
   ],
   "source": [
    "Cytoscape(data=cx, format='cx', layout={'height': '300px'})"
   ]
  },
  {
   "cell_type": "markdown",
   "metadata": {},
   "source": [
    "### Automatic Graph Layout\n",
    "\n",
    "If there is no **layout_name** parameter, default one will be used.  To specify one of the layout algorithms available in Cytoscape.js, just pass the name:"
   ]
  },
  {
   "cell_type": "code",
   "execution_count": 8,
   "metadata": {},
   "outputs": [
    {
     "data": {
      "application/vnd.jupyter.widget-view+json": {
       "model_id": "5c63d46d1d5d439cb45814fac3d8ed25",
       "version_major": 2,
       "version_minor": 0
      },
      "text/plain": [
       "Cytoscape(data=[{'numberVerification': [{'longNumber': 281474976710655}]}, {'metaData': [{'name': 'provenanceH…"
      ]
     },
     "metadata": {},
     "output_type": "display_data"
    }
   ],
   "source": [
    "Cytoscape(data=cx, format='cx', layout_name='grid')"
   ]
  },
  {
   "cell_type": "markdown",
   "metadata": {},
   "source": [
    "### Custom _Visual Style_\n",
    "\n",
    "This widget fully supports Cytoscape.js compatible styls.  Just pass your style as a dict.  For more information about styling, please visit Cytoscape.js official web site:\n",
    "\n",
    "* Cytoscape.js [Style](http://js.cytoscape.org/#style)\n",
    "\n",
    "Also, you can change background color by passing _background_ parameter as string."
   ]
  },
  {
   "cell_type": "code",
   "execution_count": 18,
   "metadata": {},
   "outputs": [
    {
     "data": {
      "application/vnd.jupyter.widget-view+json": {
       "model_id": "7c668c1276d747a28a478cd4e267fc8f",
       "version_major": 2,
       "version_minor": 0
      },
      "text/plain": [
       "Cytoscape(background='#000000', data=[{'numberVerification': [{'longNumber': 281474976710655}]}, {'metaData': …"
      ]
     },
     "metadata": {},
     "output_type": "display_data"
    }
   ],
   "source": [
    "# Custom visual style as Python Dict\n",
    "my_style = [\n",
    "    {\n",
    "        'selector': 'node',\n",
    "        'style': {\n",
    "            'background-color': '#EFEFEF',\n",
    "            'label': 'data(name)',\n",
    "            'width': 10,\n",
    "            'height': 10,\n",
    "            'shape': 'diamond',\n",
    "            'color': '#EEEEEE',\n",
    "            'font-weight': 400,\n",
    "            'text-halign': 'right',\n",
    "            'text-valign': 'bottom',\n",
    "            'font-size': 12\n",
    "        }\n",
    "    },\n",
    "    {\n",
    "        'selector': 'edge',\n",
    "        'style': {\n",
    "            'width': 1,\n",
    "            'opacity': 0.4,\n",
    "            'line-color': 'green',\n",
    "            'target-arrow-color': 'green',\n",
    "            'target-arrow-shape': 'triangle'\n",
    "        }\n",
    "    }\n",
    "]\n",
    "\n",
    "Cytoscape(data=cx, format='cx', layout_name='circle', visual_style=my_style, background='#000000')"
   ]
  },
  {
   "cell_type": "markdown",
   "metadata": {},
   "source": [
    "## Use with Other Tools and Libraries\n",
    "\n",
    "This widget is a simple network visualizer, but is powerful if you use with other popular libraries.\n",
    "\n",
    "### Network X\n",
    "\n",
    "[NetworkX](https://networkx.github.io/) is a widely used library for network analysis.  It has basic visualization features, but you can use advanced visualization feature of Cytoscape.js using this widget.\n",
    "\n",
    "**NetworkX v2.x series has I/O library for Cytoscape.js objects, and we strongly recommend to use v2.2 or newer.**"
   ]
  },
  {
   "cell_type": "code",
   "execution_count": 91,
   "metadata": {
    "scrolled": false
   },
   "outputs": [
    {
     "data": {
      "application/vnd.jupyter.widget-view+json": {
       "model_id": "6d81edf7439244469c3ec516bea646d6",
       "version_major": 2,
       "version_minor": 0
      },
      "text/plain": [
       "Cytoscape(data={'data': [], 'directed': False, 'multigraph': False, 'elements': {'nodes': [{'data': {'pos': (0…"
      ]
     },
     "metadata": {},
     "output_type": "display_data"
    }
   ],
   "source": [
    "# You must install NetworkX before running the following cells!\n",
    "import networkx as nx\n",
    "from networkx.readwrite import cytoscape_data\n",
    "from networkx.algorithms import betweenness_centrality, edge_betweenness_centrality\n",
    "\n",
    "# Generate a scale-free graph\n",
    "# G = nx.scale_free_graph(200)\n",
    "G = nx.waxman_graph(200)\n",
    "\n",
    "# Calculate PageRank\n",
    "bc = betweenness_centrality(G)\n",
    "ebc = edge_betweenness_centrality(G)\n",
    "nx.set_node_attributes(G, bc, 'betweenness')\n",
    "nx.set_edge_attributes(G, ebc, 'betweenness')\n",
    "\n",
    "bc_min = min(bc.values())\n",
    "bc_max = max(bc.values())\n",
    "\n",
    "ebc_min = min(ebc.values())\n",
    "ebc_max = max(ebc.values())\n",
    "\n",
    "mapper = 'mapData(betweenness,' + str(bc_min) + ',' + str(bc_max) + ', 5, 80)'\n",
    "op_mapper = 'mapData(betweenness,' + str(bc_min) + ',' + str(bc_max) + ', 0.3, 1)'\n",
    "color_mapper = 'mapData(betweenness,' + str(bc_min) + ',' + str(bc_max) + ', #EFEFEF, #00897B)'\n",
    "\n",
    "edge_mapper = 'mapData(betweenness,' + str(ebc_min) + ',' + str(ebc_max) + ', 1, 10)'\n",
    "edge_op_mapper = 'mapData(betweenness,' + str(ebc_min) + ',' + str(ebc_max) + ', 0.1, 1)'\n",
    "\n",
    "\n",
    "my_style2 = [\n",
    "    {\n",
    "        'selector': 'node',\n",
    "        'style': {\n",
    "            'background-color': color_mapper,\n",
    "            'width': mapper,\n",
    "            'height': mapper,\n",
    "            'background-opacity': op_mapper\n",
    "        }\n",
    "    },\n",
    "    {\n",
    "        'selector': 'edge',\n",
    "        'style': {\n",
    "            'width': edge_mapper,\n",
    "            'opacity': edge_op_mapper,\n",
    "            'line-color': '#333333'        \n",
    "        }\n",
    "    }\n",
    "]\n",
    "\n",
    "# Layout using NetworkX\n",
    "pos = nx.kamada_kawai_layout(G)\n",
    "cyjs2 = cytoscape_data(G)\n",
    "\n",
    "nodes = cyjs2['elements']['nodes']\n",
    "\n",
    "# Assign (X, Y) positions\n",
    "SCALE_FACTOR = 600\n",
    "for node in nodes:\n",
    "    node_id = node['data']['id']\n",
    "    node['position'] = {\n",
    "        'x': pos[int(node_id)][0] * SCALE_FACTOR,\n",
    "        'y': pos[int(node_id)][1] * SCALE_FACTOR\n",
    "    }\n",
    "\n",
    "Cytoscape(data=cyjs2,  layout_name='preset', visual_style=my_style2, layout={'height': '900px'})"
   ]
  }
 ],
 "metadata": {
  "kernelspec": {
   "display_name": "Python 3",
   "language": "python",
   "name": "python3"
  },
  "language_info": {
   "codemirror_mode": {
    "name": "ipython",
    "version": 3
   },
   "file_extension": ".py",
   "mimetype": "text/x-python",
   "name": "python",
   "nbconvert_exporter": "python",
   "pygments_lexer": "ipython3",
   "version": "3.6.6"
  }
 },
 "nbformat": 4,
 "nbformat_minor": 2
}
