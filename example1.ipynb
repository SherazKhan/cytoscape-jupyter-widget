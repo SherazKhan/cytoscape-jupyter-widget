{
 "cells": [
  {
   "cell_type": "markdown",
   "metadata": {},
   "source": [
    "# Cytoscape Jupyter Widget Demo\n",
    "\n",
    "Keiichiro ONO (kono at ucsd dot edu)\n",
    "10/8/2018\n",
    "\n",
    "### Official Web Site and Code Repository\n",
    "\n",
    "* https://github.com/idekerlab/cytoscape-jupyter-widget \n",
    "\n",
    "### PyPi\n",
    "\n",
    "* (coming soon...)\n",
    "\n",
    "![](https://cytoscape.org/images/logo/cy3logoOrange.svg)\n",
    "\n",
    "## Introduction\n",
    "\n",
    "This is a demo notebook for Cytoscape Jupyter Widget: graph visualizer for Jupyter Notebook.  It's a very simple graph visualizer using [Cytoscape.js](http://js.cytoscape.org).  You can interactively visualize graphs (networks) in CX or Cytoscape.js format.\n",
    "\n",
    "## Install Widget\n",
    "\n",
    "```bash\n",
    "git clone　https://github.com/idekerlab/cytoscape-jupyter-widget.git\n",
    "cd cytoscape-jupyter-widget\n",
    "./build.sh\n",
    "```"
   ]
  },
  {
   "cell_type": "markdown",
   "metadata": {},
   "source": [
    "## How to Use the Widget\n",
    "\n",
    "### 1. Import Widget"
   ]
  },
  {
   "cell_type": "code",
   "execution_count": 4,
   "metadata": {},
   "outputs": [],
   "source": [
    "from cyjupyter import Cytoscape"
   ]
  },
  {
   "cell_type": "markdown",
   "metadata": {},
   "source": [
    "### 2. Prepare Data\n",
    "\n",
    "This widget supports graph data in CX or Cytoscape.js JSON (cyjs).\n",
    "\n",
    "#### Cytoscape.js JSON\n",
    "\n",
    "Cytoscape.js JSON is a simple format for graph data.  The following code generates Cytoscape.js data as a standard Python dictionary."
   ]
  },
  {
   "cell_type": "code",
   "execution_count": 2,
   "metadata": {},
   "outputs": [],
   "source": [
    "# A Cytoscape.js network with 4 nodes and 5 edges\n",
    "\n",
    "minimal_cyjs_network = {\n",
    "    'elements': {\n",
    "        'nodes': [\n",
    "            {'data' : {'id': 'node 1'}},\n",
    "            {'data' : {'id': 'node 2'}},\n",
    "            {'data' : {'id': 'node 3'}},\n",
    "            {'data' : {'id': 'node 4'}}\n",
    "        ],\n",
    "        'edges': [\n",
    "            { 'data': {'id': 'edge1','source': 'node 1','target': 'node 2'}},\n",
    "            { 'data': {'id': 'edge2','source': 'node 1','target': 'node 3'}},\n",
    "            { 'data': {'id': 'edge3','source': 'node 2','target': 'node 3'}},\n",
    "            { 'data': {'id': 'edge4','source': 'node 2','target': 'node 4'}},\n",
    "            { 'data': {'id': 'edge5','source': 'node 3','target': 'node 4'}}\n",
    "        ]\n",
    "    }\n",
    "}"
   ]
  },
  {
   "cell_type": "markdown",
   "metadata": {},
   "source": [
    "#### CX JSON\n",
    "\n",
    "CX is a JSON format used for network data transfer in the Cytoscape ecosystem.  You can download any network from [NDEx](http://www.ndexbio.org/) in CX format.  The following example uses NDEx Python client to download the network in CX.  You can change the _uuid_ to try any networks in NDEx."
   ]
  },
  {
   "cell_type": "code",
   "execution_count": 4,
   "metadata": {},
   "outputs": [
    {
     "name": "stdout",
     "output_type": "stream",
     "text": [
      "Response code from NDEx:  200\n",
      "CX Data Type:  <class 'list'>\n"
     ]
    }
   ],
   "source": [
    "import ndex2.client as nc\n",
    "\n",
    "# Unique ID for a network entry in NDEx\n",
    "uuid0 = '54a9a35b-1e5f-11e8-b939-0ac135e8bacf'\n",
    "uuid = '568d095e-1e5f-11e8-b939-0ac135e8bacf'\n",
    "\n",
    "# NDEx public server URL\n",
    "ndex_url = 'http://public.ndexbio.org/'\n",
    "\n",
    "# Create an instance of NDEx client\n",
    "ndex=nc.Ndex2(ndex_url)\n",
    "\n",
    "# Download the network in CX format\n",
    "response=ndex.get_network_as_cx_stream(uuid)\n",
    "print('Response code from NDEx: ', response.status_code)\n",
    "\n",
    "cx = response.json()\n",
    "print('CX Data Type: ',  str(type(cx)))"
   ]
  },
  {
   "cell_type": "markdown",
   "metadata": {},
   "source": [
    "### 3. Render it!\n",
    "\n",
    "#### Cytoscape.js Networks\n",
    "\n",
    "By default, the widget is configured to display networks in Cytoscape.js JSON.  If you pass pass it as _*data*_ parameter, it automatically render it using default _Visual Style_ and [cose layout](http://js.cytoscape.org/#layouts/cose)."
   ]
  },
  {
   "cell_type": "code",
   "execution_count": 3,
   "metadata": {},
   "outputs": [
    {
     "data": {
      "application/vnd.jupyter.widget-view+json": {
       "model_id": "a920010388744c54bbf0c60182c7247e",
       "version_major": 2,
       "version_minor": 0
      },
      "text/plain": [
       "Cytoscape(data={'elements': {'nodes': [{'data': {'id': 'node 1'}}, {'data': {'id': 'node 2'}}, {'data': {'id':…"
      ]
     },
     "metadata": {},
     "output_type": "display_data"
    }
   ],
   "source": [
    "Cytoscape(data=minimal_cyjs_network)"
   ]
  },
  {
   "cell_type": "markdown",
   "metadata": {},
   "source": [
    "#### CX Networks\n",
    "\n",
    "To display CX networks, you just need to pass the List object (CX is always a list of _aspects_ for more information about CX, please read the [official document](http://www.home.ndexbio.org/data-model/)) **AND SPECIFY FORMAT, cx**.  If the data contains Visual Style and layout, it will be applied automatically.  Otherwise, default ones will be used."
   ]
  },
  {
   "cell_type": "code",
   "execution_count": 11,
   "metadata": {},
   "outputs": [
    {
     "data": {
      "application/vnd.jupyter.widget-view+json": {
       "model_id": "3508b8ddcac143a1a6eea636006d35be",
       "version_major": 2,
       "version_minor": 0
      },
      "text/plain": [
       "Cytoscape(data=[{'numberVerification': [{'longNumber': 281474976710655}]}, {'metaData': [{'name': 'provenanceH…"
      ]
     },
     "metadata": {},
     "output_type": "display_data"
    }
   ],
   "source": [
    "Cytoscape(data=cx, format='cx')"
   ]
  },
  {
   "cell_type": "markdown",
   "metadata": {},
   "source": [
    "## Optional Parameters\n",
    "\n",
    "You can use most of the basic Cytoscape.js features through optional parameters.\n",
    "\n",
    "### Cell Height\n",
    "\n",
    "This widget uses [standard Layout mechanism for Jupyter Widgets](https://minrk-ipywidgets.readthedocs.io/en/latest/examples/Widget%20Styling.html#The-layout-attribute.).  To specify the cell height, you can pass it as a part of _layout_ parameter:"
   ]
  },
  {
   "cell_type": "code",
   "execution_count": 14,
   "metadata": {},
   "outputs": [
    {
     "data": {
      "application/vnd.jupyter.widget-view+json": {
       "model_id": "5de2068c0ba64e3daed694b29c93d5bb",
       "version_major": 2,
       "version_minor": 0
      },
      "text/plain": [
       "Cytoscape(data=[{'numberVerification': [{'longNumber': 281474976710655}]}, {'metaData': [{'name': 'provenanceH…"
      ]
     },
     "metadata": {},
     "output_type": "display_data"
    }
   ],
   "source": [
    "Cytoscape(data=cx, format='cx', layout={'height': '300px'})"
   ]
  },
  {
   "cell_type": "markdown",
   "metadata": {},
   "source": [
    "### Automatic Graph Layout\n",
    "\n",
    "If there is no _layout_name_ parameter, default one will be used.  To specify one of the layout algorithms available in Cytoscape.js, just pass the name:"
   ]
  },
  {
   "cell_type": "code",
   "execution_count": 4,
   "metadata": {},
   "outputs": [
    {
     "data": {
      "application/vnd.jupyter.widget-view+json": {
       "model_id": "085e6780543447ed8d249065b2243060",
       "version_major": 2,
       "version_minor": 0
      },
      "text/plain": [
       "Cytoscape(data=[{'numberVerification': [{'longNumber': 281474976710655}]}, {'metaData': [{'name': 'provenanceH…"
      ]
     },
     "metadata": {},
     "output_type": "display_data"
    }
   ],
   "source": [
    "Cytoscape(data=cx, format='cx', layout_name='circle')"
   ]
  },
  {
   "cell_type": "markdown",
   "metadata": {},
   "source": [
    "### Custom Visual Style"
   ]
  },
  {
   "cell_type": "code",
   "execution_count": 9,
   "metadata": {},
   "outputs": [
    {
     "data": {
      "application/vnd.jupyter.widget-view+json": {
       "model_id": "ea0969c8330f4193a8646561602e4560",
       "version_major": 2,
       "version_minor": 0
      },
      "text/plain": [
       "Cytoscape(background='#444444', data=[{'numberVerification': [{'longNumber': 281474976710655}]}, {'metaData': …"
      ]
     },
     "metadata": {},
     "output_type": "display_data"
    }
   ],
   "source": [
    "my_style = [\n",
    "    {\n",
    "        'selector': 'node',\n",
    "        'style': {\n",
    "            'background-color': '#EFEFEF',\n",
    "            'label': 'data(name)',\n",
    "            'width': 10,\n",
    "            'height': 10,\n",
    "            'shape': 'rectangle',\n",
    "            'color': '#EEEEEE',\n",
    "            'font-weight': 400,\n",
    "            'text-halign': 'right',\n",
    "            'text-valign': 'bottom',\n",
    "            'font-size': 18\n",
    "        }\n",
    "    },\n",
    "    {\n",
    "        'selector': 'edge',\n",
    "        'style': {\n",
    "            'width': 1,\n",
    "            'line-color': '#EEEEEE',\n",
    "            'target-arrow-color': '#EEEEEE',\n",
    "            'target-arrow-shape': 'triangle'\n",
    "        }\n",
    "    }\n",
    "]\n",
    "\n",
    "\n",
    "Cytoscape(data=cx, format='cx', layout_name='cose', visual_style=my_style, background='#444444')"
   ]
  },
  {
   "cell_type": "markdown",
   "metadata": {},
   "source": [
    "## Use Other Tools and Libraries\n",
    "\n",
    "This widget is a simple visualizer, but is powerful if you use it with other popular libraries.\n",
    "\n",
    "### Network X\n"
   ]
  },
  {
   "cell_type": "code",
   "execution_count": 14,
   "metadata": {
    "scrolled": false
   },
   "outputs": [
    {
     "name": "stdout",
     "output_type": "stream",
     "text": [
      "mapData(betweenness,0.0,0.021617800527427004, 15, 200)\n"
     ]
    },
    {
     "data": {
      "application/vnd.jupyter.widget-view+json": {
       "model_id": "5bfc417ae618442da7f37bcc64bca853",
       "version_major": 2,
       "version_minor": 0
      },
      "text/plain": [
       "Cytoscape(background='#444444', data={'data': [], 'directed': True, 'multigraph': True, 'elements': {'nodes': …"
      ]
     },
     "metadata": {},
     "output_type": "display_data"
    }
   ],
   "source": [
    "# You must install NetworkX before running the following cells!\n",
    "import networkx as nx\n",
    "from networkx.readwrite import cytoscape_data\n",
    "from networkx.algorithms import betweenness_centrality\n",
    "\n",
    "# Generate a scale-free graph\n",
    "G = nx.scale_free_graph(500)\n",
    "\n",
    "# Calculate PageRank\n",
    "bc = betweenness_centrality(G)\n",
    "nx.set_node_attributes(G, bc, 'betweenness')\n",
    "\n",
    "bc_min = min(bc.values())\n",
    "bc_max = max(bc.values())\n",
    "\n",
    "mapper = 'mapData(betweenness,' + str(bc_min) + ',' + str(bc_max) + ', 15, 200)'\n",
    "print(mapper)\n",
    "\n",
    "my_style2 = [\n",
    "    {\n",
    "        'selector': 'node',\n",
    "        'style': {\n",
    "            'background-color': '#EFEFEF',\n",
    "            'label': 'data(name)',\n",
    "            'width': mapper,\n",
    "            'height': mapper,\n",
    "            'color': '#EEEEEE',\n",
    "            'font-weight': 400,\n",
    "            'text-halign': 'right',\n",
    "            'text-valign': 'bottom',\n",
    "            'font-size': mapper\n",
    "        }\n",
    "    },\n",
    "    {\n",
    "        'selector': 'edge',\n",
    "        'style': {\n",
    "            'width': 1,\n",
    "            'line-color': '#EEEEEE',\n",
    "            'target-arrow-color': '#EEEEEE',\n",
    "            'target-arrow-shape': 'triangle'\n",
    "        }\n",
    "    }\n",
    "]\n",
    "\n",
    "cyjs2 = cytoscape_data(G)\n",
    "\n",
    "Cytoscape(data=cyjs2,  layout_name='grid', visual_style=my_style2, background='#444444')"
   ]
  }
 ],
 "metadata": {
  "kernelspec": {
   "display_name": "Python 3",
   "language": "python",
   "name": "python3"
  },
  "language_info": {
   "codemirror_mode": {
    "name": "ipython",
    "version": 3
   },
   "file_extension": ".py",
   "mimetype": "text/x-python",
   "name": "python",
   "nbconvert_exporter": "python",
   "pygments_lexer": "ipython3",
   "version": "3.6.6"
  }
 },
 "nbformat": 4,
 "nbformat_minor": 2
}
