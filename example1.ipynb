{
 "cells": [
  {
   "cell_type": "markdown",
   "metadata": {},
   "source": [
    "# Cytoscape Widget\n",
    "\n",
    "## Proof-of-concept\n",
    "\n",
    "### 1. Import Widget"
   ]
  },
  {
   "cell_type": "code",
   "execution_count": 1,
   "metadata": {},
   "outputs": [],
   "source": [
    "from cyjupyter import Cytoscape"
   ]
  },
  {
   "cell_type": "markdown",
   "metadata": {},
   "source": [
    "### 2. Prepare Data\n",
    "\n",
    "This can be in CX or Cytoscape.js JSON (cyjs).  Also, it is easy to add more format options.\n",
    "\n",
    "The following example uses Cytoscape.js data as standard Python dictionary"
   ]
  },
  {
   "cell_type": "code",
   "execution_count": 2,
   "metadata": {},
   "outputs": [
    {
     "name": "stdout",
     "output_type": "stream",
     "text": [
      "Received 53017 characters of CX\n"
     ]
    }
   ],
   "source": [
    "import ndex2.client as nc\n",
    "\n",
    "ndex=nc.Ndex2(\"http://public.ndexbio.org\")\n",
    "ndex.update_status()\n",
    "\n",
    "#the string of below command is match the uuid of the network which you want to draw in ndex page.\n",
    "response=ndex.get_network_as_cx_stream('54a9a35b-1e5f-11e8-b939-0ac135e8bacf')\n",
    "print(\"Received %s characters of CX\" % len(response.content))\n",
    "cx = response.json()"
   ]
  },
  {
   "cell_type": "markdown",
   "metadata": {},
   "source": [
    "### 3. Render it!\n",
    "\n",
    "Additional parameters, such as style, cell size, can be added later."
   ]
  },
  {
   "cell_type": "code",
   "execution_count": 4,
   "metadata": {},
   "outputs": [
    {
     "data": {
      "application/vnd.jupyter.widget-view+json": {
       "model_id": "fa85ef38678d4212922dbdae5c802a85",
       "version_major": 2,
       "version_minor": 0
      },
      "text/plain": [
       "Cytoscape(cell_height='1000px', data=[{'numberVerification': [{'longNumber': 281474976710655}]}, {'metaData': …"
      ]
     },
     "metadata": {},
     "output_type": "display_data"
    }
   ],
   "source": [
    "Cytoscape(data=cx, format='cx', layout_name='cose', background='#FFFFFF', cell_height='1000px')"
   ]
  }
 ],
 "metadata": {
  "kernelspec": {
   "display_name": "Python 3",
   "language": "python",
   "name": "python3"
  },
  "language_info": {
   "codemirror_mode": {
    "name": "ipython",
    "version": 3
   },
   "file_extension": ".py",
   "mimetype": "text/x-python",
   "name": "python",
   "nbconvert_exporter": "python",
   "pygments_lexer": "ipython3",
   "version": "3.6.6"
  }
 },
 "nbformat": 4,
 "nbformat_minor": 2
}
