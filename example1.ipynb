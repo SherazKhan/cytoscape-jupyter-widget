{
 "cells": [
  {
   "cell_type": "markdown",
   "metadata": {},
   "source": [
    "# Cytoscape Widget\n",
    "\n",
    "## Proof-of-concept\n",
    "\n",
    "### 1. Import Widget"
   ]
  },
  {
   "cell_type": "code",
   "execution_count": 2,
   "metadata": {},
   "outputs": [],
   "source": [
    "from cyjupyter import Cytoscape"
   ]
  },
  {
   "cell_type": "markdown",
   "metadata": {},
   "source": [
    "### 2. Prepare Data\n",
    "\n",
    "This can be in CX or Cytoscape.js JSON (cyjs).  Also, it is easy to add more format options.\n",
    "\n",
    "The following example uses Cytoscape.js data as standard Python dictionary"
   ]
  },
  {
   "cell_type": "code",
   "execution_count": 7,
   "metadata": {},
   "outputs": [],
   "source": [
    "data_in_cyjs = {\n",
    "    'elements': {\n",
    "        'nodes': [\n",
    "            {'data' : {'id': 'node1'}},\n",
    "            {'data' : {'id': 'node2'}},\n",
    "        ],\n",
    "        'edges': [\n",
    "            { 'data': {\n",
    "                    'id': 'edge1',\n",
    "                    'source': 'node1',\n",
    "                    'target': 'node2'\n",
    "                }}]\n",
    "    }\n",
    "}"
   ]
  },
  {
   "cell_type": "markdown",
   "metadata": {},
   "source": [
    "### 3. Render it!\n",
    "\n",
    "Additional parameters, such as style, cell size, can be added later."
   ]
  },
  {
   "cell_type": "code",
   "execution_count": 8,
   "metadata": {},
   "outputs": [
    {
     "data": {
      "application/vnd.jupyter.widget-view+json": {
       "model_id": "7215773652284d85a4cf13d194fbcdba",
       "version_major": 2,
       "version_minor": 0
      },
      "text/plain": [
       "Cytoscape(data={'elements': {'nodes': [{'data': {'id': 'node1'}}, {'data': {'id': 'node2'}}], 'edges': [{'data…"
      ]
     },
     "metadata": {},
     "output_type": "display_data"
    }
   ],
   "source": [
    "Cytoscape(data=data_in_cyjs, format='cyjs')"
   ]
  }
 ],
 "metadata": {
  "kernelspec": {
   "display_name": "Python 3",
   "language": "python",
   "name": "python3"
  },
  "language_info": {
   "codemirror_mode": {
    "name": "ipython",
    "version": 3
   },
   "file_extension": ".py",
   "mimetype": "text/x-python",
   "name": "python",
   "nbconvert_exporter": "python",
   "pygments_lexer": "ipython3",
   "version": "3.6.6"
  }
 },
 "nbformat": 4,
 "nbformat_minor": 2
}
